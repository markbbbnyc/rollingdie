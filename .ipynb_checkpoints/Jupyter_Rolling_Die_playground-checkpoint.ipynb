{
 "cells": [
  {
   "cell_type": "code",
   "execution_count": 32,
   "metadata": {},
   "outputs": [],
   "source": [
    "import numpy as np\n",
    "#import matplotlib as plt\n",
    "import matplotlib.pyplot as plt\n",
    "import pandas as pd\n",
    "import random\n",
    "import os\n",
    "from tabulate import tabulate\n",
    "#np.set_printoptions(threshold=np.nan)\n",
    "#%matplotlib inline\n",
    "\n",
    "\n",
    "# Variables\n",
    "\n",
    "die_roll = 0\n",
    "die_type = 6\n",
    "die_payout = die_type\n",
    "player_bet = 0\n",
    "player_pick = 0\n",
    "player_win = 0\n",
    "player_purse = 100\n",
    "round = 0\n",
    "counter = 0\n",
    "\n",
    "\n",
    "# Keeping track and initialize lists\n",
    "\n",
    "#turn_list.clear()\n",
    "#purse_list.clear()\n",
    "#bet_list.clear()\n",
    "#win_loss_list.clear()\n",
    "#rolled_number_list.clear()\n",
    "#picked_number_list.clear()\n",
    "\n",
    "round_list = [0]\n",
    "turn_list = [0]\n",
    "purse_list =[100]\n",
    "bet_list = [0]\n",
    "win_loss_list = [0]\n",
    "rolled_number_list = [0]\n",
    "picked_number_list = [0]\n",
    "\n",
    "track = {'Round':round_list,'Turns':turn_list,'Purse':purse_list, 'Bet':bet_list, 'Win_Loss':win_loss_list, 'Rolled_Number':rolled_number_list,\n",
    "'Picked_Number':picked_number_list}\n",
    "\n",
    "for j in range(10):\n",
    "    round = round +1\n",
    "    counter = 0\n",
    "    player_purse = 100\n",
    "\n",
    "    while player_purse > 0:\n",
    "        round_list.append(round)\n",
    "        counter = counter +1\n",
    "        turn_list.append(counter)\n",
    "        die_roll = random.randint(1,6)\n",
    "        rolled_number_list.append(die_roll)\n",
    "        player_bet = random.randint(0,player_purse)\n",
    "        bet_list.append(player_bet)\n",
    "        player_pick = random.randint(1,6)\n",
    "        picked_number_list.append(player_pick)\n",
    "        if player_pick == die_roll:\n",
    "            player_win = player_bet * die_payout\n",
    "        else:\n",
    "            player_win = -1 * player_bet\n",
    "        win_loss_list.append(player_win)\n",
    "        player_purse = player_purse + player_win\n",
    "        purse_list.append(player_purse)\n",
    "        if player_purse == 0:\n",
    "            break\n",
    "#Tabular Results \n",
    "header = track.keys()\n",
    "#print(tabulate(track, headers=['Turn', 'Purse', 'Bet', 'Win/Loss', 'Rolled_Number', 'Picked_Number']))\n",
    "#print(tabulate(track, headers=header))\n",
    "\n",
    "df = pd.DataFrame.from_dict(track)\n",
    "#print(df)"
   ]
  },
  {
   "cell_type": "code",
   "execution_count": 53,
   "metadata": {},
   "outputs": [
    {
     "name": "stdout",
     "output_type": "stream",
     "text": [
      "3\n"
     ]
    }
   ],
   "source": [
    "round_high = df.groupby('Round')['Purse'].max()\n",
    "tops = round_high.max()\n",
    "high_round = round_high[round_high == tops].index[0]\n",
    "print(high_round)"
   ]
  },
  {
   "cell_type": "code",
   "execution_count": 63,
   "metadata": {},
   "outputs": [
    {
     "name": "stdout",
     "output_type": "stream",
     "text": [
      "<pandas.core.groupby.groupby.SeriesGroupBy object at 0x7f73b3f2e588>\n"
     ]
    }
   ],
   "source": [
    "x = df.groupby(\"Round\")['Turns']\n",
    "print(x)\n",
    "#y1 = df.groupby(\"XX\")[\"Win_Loss\"]\n",
    "#f = plt.figure(figsize=(10,8))\n",
    "#plt.subplot(1,1,1)\n",
    "#plt.bar(x,y1)\n",
    "#plt.title(\"This is how it went down\")\n",
    "#plt.ylabel(\"Maximum Bet\")\n",
    "#plt.show()"
   ]
  },
  {
   "cell_type": "code",
   "execution_count": null,
   "metadata": {},
   "outputs": [],
   "source": [
    "#x = df[\"Round\"].unique()\n",
    "#y1 = df.groupby(\"Round\")[\"Bet\"].max()\n",
    "#y2 = df.groupby(\"Round\")[\"Purse\"].max()\n",
    "#y3 = df.groupby(\"Round\")[\"Turns\"].max()\n",
    "\n",
    "#f = plt.figure(figsize=(10,8))\n",
    "\n",
    "#plt.subplot(3,1,1)\n",
    "#plt.bar(x,y1)\n",
    "#plt.title(\"This is how it went down\")\n",
    "#plt.ylabel(\"Maximum Bet\")\n",
    "\n",
    "#plt.subplot(3,1,2)\n",
    "#plt.bar(x,y2)\n",
    "#plt.ylabel(\"Maximum Purse\")\n",
    "#plt.xlabel(\"Rounds\")\n",
    "\n",
    "#plt.subplot(3,1,3)\n",
    "#plt.bar(x,y3)\n",
    "#plt.ylabel(\"Games per Round\")\n",
    "#plt.xlabel(\"Rounds\")\n",
    "\n",
    "#plt.show()\n"
   ]
  }
 ],
 "metadata": {
  "kernelspec": {
   "display_name": "Python 3",
   "language": "python",
   "name": "python3"
  },
  "language_info": {
   "codemirror_mode": {
    "name": "ipython",
    "version": 3
   },
   "file_extension": ".py",
   "mimetype": "text/x-python",
   "name": "python",
   "nbconvert_exporter": "python",
   "pygments_lexer": "ipython3",
   "version": "3.7.1"
  }
 },
 "nbformat": 4,
 "nbformat_minor": 2
}
